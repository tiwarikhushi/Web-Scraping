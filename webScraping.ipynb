{
  "nbformat": 4,
  "nbformat_minor": 0,
  "metadata": {
    "colab": {
      "provenance": []
    },
    "kernelspec": {
      "name": "python3",
      "display_name": "Python 3"
    },
    "language_info": {
      "name": "python"
    }
  },
  "cells": [
    {
      "cell_type": "code",
      "execution_count": 7,
      "metadata": {
        "id": "XcF5db2XTZS9"
      },
      "outputs": [],
      "source": [
        "import requests\n",
        "import math\n",
        "\n",
        "url = 'https://middleware.paytmmall.com/fmcg-foods-glpid-101405'\n",
        "\n",
        "headers = {'User-Agent': 'Mozilla/5.0 (Windows NT 10.0; Win64; x64) AppleWebKit/537.36 (KHTML, like Gecko) Chrome/74.0.3729.131 Safari/537.36'}\n",
        "\n",
        "payload = {\n",
        "'channel': 'web',\n",
        "'child_site_id': '6',\n",
        "'site_id': '2',\n",
        "'version': '2',\n",
        "'discoverability': 'online',\n",
        "'use_mw': '1',\n",
        "'category': '101405',\n",
        "'page': '1',\n",
        "'page_count': '1',\n",
        "'items_per_page': '32'}\n",
        "\n",
        "jsonData = requests.post(url, headers=headers, data=payload).json()\n",
        "total_count = jsonData['totalCount']\n",
        "total_pages = total_count / 32\n",
        "pages = math.ceil(total_pages)\n",
        "\n",
        "\n",
        "for page in range(1,pages + 1):\n",
        "    payload.update({'page':page, 'page_count':page})\n",
        "\n",
        "    jsonData = requests.post(url, headers=headers, data=payload).json()\n",
        "\n",
        "    for product in jsonData['grid_layout']:\n",
        "        name = product['name']\n",
        "        brand = product['brand']\n",
        "        actual_price = product['actual_price']\n",
        "        try:\n",
        "            category = product['attributes']['type']\n",
        "        except:\n",
        "            category = 'N/A'\n",
        "\n",
        "        print ('%-20s ₹%-5s %-20s ₹%s' %(category, actual_price, brand, name))"
      ]
    }
  ]
}